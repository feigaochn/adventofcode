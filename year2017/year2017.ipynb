{
 "cells": [
  {
   "cell_type": "code",
   "execution_count": 4,
   "metadata": {},
   "outputs": [],
   "source": [
    "import itertools\n",
    "import collections\n",
    "import functools\n",
    "import os"
   ]
  },
  {
   "cell_type": "code",
   "execution_count": 5,
   "metadata": {},
   "outputs": [],
   "source": [
    "def load_input(day: int) -> str:\n",
    "    \"\"\"Loading downloaded input.\"\"\"\n",
    "    \n",
    "    fn = f\"input{day:02d}.txt\"\n",
    "    try:\n",
    "        with open(fn, 'r') as fp:\n",
    "            return fp.read()\n",
    "    except FileNotFoundError:\n",
    "        print(\"File not exists.\")\n",
    "\n",
    "# print(load_input(1))"
   ]
  },
  {
   "cell_type": "markdown",
   "metadata": {},
   "source": [
    "## [Day 01: Inverse Captcha](http://adventofcode.com/2017/day/1)\n",
    "\n",
    "In Part 1, we are asked to review a sequence of digits and find the **sum** of all digits that match the *next* digit in the list. The list is circular, so the digit after last is the first one in the list.\n",
    "\n",
    "In Part 2, we consider the digit *halfway around* the circular list, instead of *next* digit."
   ]
  },
  {
   "cell_type": "code",
   "execution_count": 58,
   "metadata": {},
   "outputs": [
    {
     "name": "stdout",
     "output_type": "stream",
     "text": [
      "Part 1: Pass\n",
      "Part 2: Pass\n"
     ]
    }
   ],
   "source": [
    "def matching_sum(digits: str, offset=1) -> int:\n",
    "    \"\"\"Returns the sum of digits that matching offset \n",
    "    steps ahead in circular.\n",
    "    \n",
    "    :param digits: a string of digits\n",
    "    :param offset: offset between matching pair\n",
    "    \"\"\"\n",
    "\n",
    "    p1, p2 = itertools.tee(map(int, digits))\n",
    "    p2 = itertools.islice(itertools.cycle(p2), \n",
    "                          offset, offset + len(digits))\n",
    "    return sum(d1 if d1 == d2 else 0 \n",
    "                 for d1, d2 in zip(p1, p2))\n",
    "\n",
    "def test_matching_sum_p1():\n",
    "    assert matching_sum(\"1122\") == 3\n",
    "    assert matching_sum(\"1111\") == 4\n",
    "    assert matching_sum(\"1234\") == 0\n",
    "    assert matching_sum(\"91212129\") == 9\n",
    "    print(\"Part 1: Pass\")\n",
    "\n",
    "def test_matching_sum_p2():\n",
    "    assert matching_sum(\"1212\", 2) == 6\n",
    "    assert matching_sum(\"1221\", 2) == 0\n",
    "    assert matching_sum(\"123425\", 3) == 4\n",
    "    assert matching_sum(\"123123\", 3) == 12\n",
    "    assert matching_sum(\"12131415\", 4) == 4\n",
    "    print(\"Part 2: Pass\")\n",
    "\n",
    "test_matching_sum_p1()\n",
    "test_matching_sum_p2()"
   ]
  },
  {
   "cell_type": "code",
   "execution_count": 59,
   "metadata": {},
   "outputs": [
    {
     "name": "stdout",
     "output_type": "stream",
     "text": [
      "P1: 1228\n",
      "P2: 1238\n"
     ]
    }
   ],
   "source": [
    "input01 = load_input(1)\n",
    "print(\"P1:\", matching_sum(input01))\n",
    "print(\"P2:\", matching_sum(input01, len(input01)//2))"
   ]
  },
  {
   "cell_type": "markdown",
   "metadata": {},
   "source": [
    "## [Day 02: Corruption Checksum](http://adventofcode.com/2017/day/2)\n",
    "\n",
    "### Part 1:\n",
    "\n",
    "The **checksum** of spreadsheet is the sum of differences between the largest value and the smallest value on each row.\n"
   ]
  },
  {
   "cell_type": "code",
   "execution_count": 17,
   "metadata": {},
   "outputs": [],
   "source": [
    "def spreadsheet_checksum(lines: str) -> int:\n",
    "    res = 0\n",
    "    for row in lines.splitlines():\n",
    "        nums = sorted(map(int, row.split()))\n",
    "        res += nums[-1] - nums[0]\n",
    "    return res"
   ]
  },
  {
   "cell_type": "code",
   "execution_count": 18,
   "metadata": {},
   "outputs": [
    {
     "name": "stdout",
     "output_type": "stream",
     "text": [
      "Part 1: Pass\n"
     ]
    }
   ],
   "source": [
    "def test_spreadsheet_checksum():\n",
    "    sample = \"5 1 9 5\\n7 5 3\\n2 4 6 8\"\n",
    "    assert spreadsheet_checksum(sample) == 18\n",
    "    print(\"Part 1: Pass\")\n",
    "\n",
    "test_spreadsheet_checksum()"
   ]
  },
  {
   "cell_type": "code",
   "execution_count": 19,
   "metadata": {},
   "outputs": [
    {
     "name": "stdout",
     "output_type": "stream",
     "text": [
      "42378\n"
     ]
    }
   ],
   "source": [
    "input02 = load_input(2)\n",
    "print(spreadsheet_checksum(input02))"
   ]
  },
  {
   "cell_type": "markdown",
   "metadata": {},
   "source": [
    "### Part 2\n",
    "\n",
    "For each row, find the only two numbers that one evenly divides the other.\n",
    "The task is to find those numbers on each line, divide them, and add up each line's result."
   ]
  },
  {
   "cell_type": "code",
   "execution_count": 28,
   "metadata": {},
   "outputs": [],
   "source": [
    "def divided_sum(lines: str) -> int:\n",
    "    res = 0\n",
    "    for line in lines.splitlines():\n",
    "        nums = sorted(map(int, line.split()))\n",
    "        for a in nums:\n",
    "            found = False\n",
    "            for b in reversed(nums):\n",
    "                if a >= b:\n",
    "                    break\n",
    "                elif b % a == 0:\n",
    "                    res += b // a\n",
    "                    found = True\n",
    "                    break\n",
    "            if found:\n",
    "                break\n",
    "    return res"
   ]
  },
  {
   "cell_type": "code",
   "execution_count": 29,
   "metadata": {},
   "outputs": [
    {
     "name": "stdout",
     "output_type": "stream",
     "text": [
      "Part 2: Pass\n"
     ]
    }
   ],
   "source": [
    "def test_divided_sum():\n",
    "    sample = \"5 9 2 8\\n9 4 7 3\\n3 8 6 5\"\n",
    "    assert divided_sum(sample) == 9\n",
    "    print(\"Part 2: Pass\")\n",
    "    \n",
    "test_divided_sum()"
   ]
  },
  {
   "cell_type": "code",
   "execution_count": 30,
   "metadata": {},
   "outputs": [
    {
     "name": "stdout",
     "output_type": "stream",
     "text": [
      "246\n"
     ]
    }
   ],
   "source": [
    "input02 = load_input(2)\n",
    "print(divided_sum(input02))"
   ]
  },
  {
   "cell_type": "markdown",
   "metadata": {},
   "source": [
    "## [Day 03: ](http://adventofcode.com/2017/day/3)\n",
    "\n",
    "### Part 1:"
   ]
  },
  {
   "cell_type": "code",
   "execution_count": null,
   "metadata": {},
   "outputs": [],
   "source": []
  }
 ],
 "metadata": {
  "kernelspec": {
   "display_name": "Python 3",
   "language": "python",
   "name": "python3"
  },
  "language_info": {
   "codemirror_mode": {
    "name": "ipython",
    "version": 3
   },
   "file_extension": ".py",
   "mimetype": "text/x-python",
   "name": "python",
   "nbconvert_exporter": "python",
   "pygments_lexer": "ipython3",
   "version": "3.6.3"
  }
 },
 "nbformat": 4,
 "nbformat_minor": 2
}
