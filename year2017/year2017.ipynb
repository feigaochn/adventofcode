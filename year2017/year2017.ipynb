{
 "cells": [
  {
   "cell_type": "code",
   "execution_count": 4,
   "metadata": {},
   "outputs": [],
   "source": [
    "import itertools\n",
    "import collections\n",
    "import functools\n",
    "import os"
   ]
  },
  {
   "cell_type": "code",
   "execution_count": 5,
   "metadata": {},
   "outputs": [],
   "source": [
    "def load_input(day: int) -> str:\n",
    "    \"\"\"Loading downloaded input.\"\"\"\n",
    "    \n",
    "    fn = f\"input{day:02d}.txt\"\n",
    "    try:\n",
    "        with open(fn, 'r') as fp:\n",
    "            return fp.read()\n",
    "    except FileNotFoundError:\n",
    "        print(\"File not exists.\")\n",
    "\n",
    "# print(load_input(1))"
   ]
  },
  {
   "cell_type": "markdown",
   "metadata": {},
   "source": [
    "## [Day 01: Inverse Captcha](http://adventofcode.com/2017/day/1)\n",
    "\n",
    "In Part 1, we are asked to review a sequence of digits and find the **sum** of all digits that match the *next* digit in the list. The list is circular, so the digit after last is the first one in the list.\n",
    "\n",
    "In Part 2, we consider the digit *halfway around* the circular list, instead of *next* digit."
   ]
  },
  {
   "cell_type": "code",
   "execution_count": 12,
   "metadata": {},
   "outputs": [
    {
     "name": "stdout",
     "output_type": "stream",
     "text": [
      "Part 1: Pass\n",
      "Part 2: Pass\n"
     ]
    }
   ],
   "source": [
    "def matching_sum(digits: str, offset=1) -> int:\n",
    "    \"\"\"Returns the sum of digits that matching offset \n",
    "    steps ahead in circular.\n",
    "    \n",
    "    :param digits: a string of digits\n",
    "    :param offset: offset between matching pair\n",
    "    \"\"\"\n",
    "    result = 0\n",
    "    digits = list(map(int, digits))\n",
    "    p2 = itertools.cycle(digits)\n",
    "    while offset:\n",
    "        next(p2)\n",
    "        offset -= 1\n",
    "    for d1, d2 in zip(digits, p2):\n",
    "        if d1 == d2:\n",
    "            result += d1\n",
    "    return result\n",
    "\n",
    "def test_matching_sum_p1():\n",
    "    assert matching_sum(\"1122\") == 3\n",
    "    assert matching_sum(\"1111\") == 4\n",
    "    assert matching_sum(\"1234\") == 0\n",
    "    assert matching_sum(\"91212129\") == 9\n",
    "    print(\"Part 1: Pass\")\n",
    "\n",
    "def test_matching_sum_p2():\n",
    "    assert matching_sum(\"1212\", 2) == 6\n",
    "    assert matching_sum(\"1221\", 2) == 0\n",
    "    assert matching_sum(\"123425\", 3) == 4\n",
    "    assert matching_sum(\"123123\", 3) == 12\n",
    "    assert matching_sum(\"12131415\", 4) == 4\n",
    "    print(\"Part 2: Pass\")\n",
    "\n",
    "test_matching_sum_p1()\n",
    "test_matching_sum_p2()"
   ]
  },
  {
   "cell_type": "code",
   "execution_count": 13,
   "metadata": {},
   "outputs": [
    {
     "name": "stdout",
     "output_type": "stream",
     "text": [
      "P1: 1228\n",
      "P2: 1238\n"
     ]
    }
   ],
   "source": [
    "input01 = load_input(1)\n",
    "print(\"P1:\", matching_sum(input01))\n",
    "print(\"P2:\", matching_sum(input01, len(input01)//2))"
   ]
  },
  {
   "cell_type": "markdown",
   "metadata": {},
   "source": [
    "## [Day 02: ](http://adventofcode.com/2017/day/2)\n",
    "\n",
    "TODO"
   ]
  },
  {
   "cell_type": "code",
   "execution_count": null,
   "metadata": {},
   "outputs": [],
   "source": []
  },
  {
   "cell_type": "code",
   "execution_count": null,
   "metadata": {},
   "outputs": [],
   "source": []
  }
 ],
 "metadata": {
  "kernelspec": {
   "display_name": "Python 3",
   "language": "python",
   "name": "python3"
  },
  "language_info": {
   "codemirror_mode": {
    "name": "ipython",
    "version": 3
   },
   "file_extension": ".py",
   "mimetype": "text/x-python",
   "name": "python",
   "nbconvert_exporter": "python",
   "pygments_lexer": "ipython3",
   "version": "3.6.3"
  }
 },
 "nbformat": 4,
 "nbformat_minor": 2
}
